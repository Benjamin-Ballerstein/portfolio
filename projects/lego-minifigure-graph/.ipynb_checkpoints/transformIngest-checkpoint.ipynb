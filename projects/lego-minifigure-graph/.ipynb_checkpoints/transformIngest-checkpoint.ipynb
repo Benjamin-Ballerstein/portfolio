{
 "cells": [
  {
   "cell_type": "markdown",
   "id": "4978c18d-74c7-4095-9fc0-4b267d91642d",
   "metadata": {},
   "source": [
    "# Transforming Rebrickable Star Wars Dataset for D3 Network Graph"
   ]
  },
  {
   "cell_type": "code",
   "execution_count": 1,
   "id": "59b2c91f-fa73-43bf-9ca0-cdc561179ff5",
   "metadata": {},
   "outputs": [],
   "source": [
    "import pandas as pd\n",
    "import itertools\n",
    "import json\n",
    "import re\n"
   ]
  },
  {
   "cell_type": "code",
   "execution_count": 2,
   "id": "f5479c9b-4e35-4a01-a176-c2cf17e80c14",
   "metadata": {},
   "outputs": [
    {
     "name": "stdout",
     "output_type": "stream",
     "text": [
      "inventory_minifigs: (24199, 3)\n",
      "   inventory_id     fig_num  quantity\n",
      "0             3  fig-001549         1\n",
      "1             4  fig-000764         1\n",
      "2            19  fig-000555         1\n",
      "3            25  fig-000574         1\n",
      "4            26  fig-000842         1 \n",
      "\n",
      "inventories: (43457, 3)\n",
      "   id  version set_num\n",
      "0   1        1  7922-1\n",
      "1   3        1  3931-1\n",
      "2   4        1  6942-1\n",
      "3  15        1  5158-1\n",
      "4  16        1   903-1 \n",
      "\n",
      "sets: (25546, 6)\n",
      "        set_num                         name  year  theme_id  num_parts  \\\n",
      "0  0003977811-1  Ninjago: Book of Adventures  2022       761          1   \n",
      "1         001-1                        Gears  1965       756         43   \n",
      "2        0011-2            Town Mini-Figures  1979        67         12   \n",
      "3        0011-3   Castle 2 for 1 Bonus Offer  1987       199          0   \n",
      "4        0012-1           Space Mini-Figures  1979       143         12   \n",
      "\n",
      "                                             img_url  \n",
      "0  https://cdn.rebrickable.com/media/sets/0003977...  \n",
      "1   https://cdn.rebrickable.com/media/sets/001-1.jpg  \n",
      "2  https://cdn.rebrickable.com/media/sets/0011-2.jpg  \n",
      "3  https://cdn.rebrickable.com/media/sets/0011-3.jpg  \n",
      "4  https://cdn.rebrickable.com/media/sets/0012-1.jpg   \n",
      "\n",
      "minifigs: (16069, 4)\n",
      "      fig_num                                      name  num_parts  \\\n",
      "0  fig-000001                        Toy Store Employee          4   \n",
      "1  fig-000002                              Customer Kid          4   \n",
      "2  fig-000003                     Assassin Droid, White          8   \n",
      "3  fig-000004  Man, White Torso, Black Legs, Brown Hair          4   \n",
      "4  fig-000005           Captain America with Short Legs          3   \n",
      "\n",
      "                                             img_url  \n",
      "0  https://cdn.rebrickable.com/media/sets/fig-000...  \n",
      "1  https://cdn.rebrickable.com/media/sets/fig-000...  \n",
      "2  https://cdn.rebrickable.com/media/sets/fig-000...  \n",
      "3  https://cdn.rebrickable.com/media/sets/fig-000...  \n",
      "4  https://cdn.rebrickable.com/media/sets/fig-000...   \n",
      "\n",
      "themes: (482, 3)\n",
      "   id            name  parent_id\n",
      "0   1         Technic        NaN\n",
      "1   3     Competition        1.0\n",
      "2   4  Expert Builder        1.0\n",
      "3  16      RoboRiders        1.0\n",
      "4  17  Speed Slammers        1.0\n"
     ]
    }
   ],
   "source": [
    "# Load source CSVs (adjust path if needed)\n",
    "inventory_minifigs = pd.read_csv(\"data/inventory_minifigs.csv\")\n",
    "inventories = pd.read_csv(\"data/inventories.csv\")\n",
    "sets = pd.read_csv(\"data/sets.csv\")\n",
    "minifigs = pd.read_csv(\"data/minifigs.csv\")\n",
    "themes = pd.read_csv(\"data/themes.csv\")\n",
    "corrections = pd.read_csv(\"data/minifigcorrections.csv\")\n",
    "\n",
    "# Validate\n",
    "print(\"inventory_minifigs:\", inventory_minifigs.shape)\n",
    "print(inventory_minifigs.head(), \"\\n\")\n",
    "\n",
    "print(\"inventories:\", inventories.shape)\n",
    "print(inventories.head(), \"\\n\")\n",
    "\n",
    "print(\"sets:\", sets.shape)\n",
    "print(sets.head(), \"\\n\")\n",
    "\n",
    "print(\"minifigs:\", minifigs.shape)\n",
    "print(minifigs.head(), \"\\n\")\n",
    "\n",
    "print(\"themes:\", themes.shape)\n",
    "print(themes.head())\n"
   ]
  },
  {
   "cell_type": "markdown",
   "id": "da7a7395-720a-4fd0-9c41-4b15327641ce",
   "metadata": {},
   "source": [
    "## Clean Minifig Names"
   ]
  },
  {
   "cell_type": "code",
   "execution_count": 3,
   "id": "2920f14d-68b8-4517-8f05-51f894339659",
   "metadata": {},
   "outputs": [
    {
     "name": "stdout",
     "output_type": "stream",
     "text": [
      "      fig_num                                      name  num_parts  \\\n",
      "0  fig-000001                        Toy Store Employee          4   \n",
      "1  fig-000002                              Customer Kid          4   \n",
      "2  fig-000003                     Assassin Droid, White          8   \n",
      "3  fig-000004  Man, White Torso, Black Legs, Brown Hair          4   \n",
      "4  fig-000005           Captain America with Short Legs          3   \n",
      "\n",
      "                                             img_url  \\\n",
      "0  https://cdn.rebrickable.com/media/sets/fig-000...   \n",
      "1  https://cdn.rebrickable.com/media/sets/fig-000...   \n",
      "2  https://cdn.rebrickable.com/media/sets/fig-000...   \n",
      "3  https://cdn.rebrickable.com/media/sets/fig-000...   \n",
      "4  https://cdn.rebrickable.com/media/sets/fig-000...   \n",
      "\n",
      "                        clean_name  \n",
      "0               Toy Store Employee  \n",
      "1                     Customer Kid  \n",
      "2                   Assassin Droid  \n",
      "3                              Man  \n",
      "4  Captain America with Short Legs  \n"
     ]
    }
   ],
   "source": [
    "minifigs[\"name\"] = minifigs[\"name\"].str.replace(\"Astromech Droid, \", \"\", regex = False)\n",
    "\n",
    "def clean_name(name: str) -> str:\n",
    "    return re.split(r\"- |,\", name)[0].strip()\n",
    "\n",
    "minifigs[\"clean_name\"] = minifigs[\"name\"].apply(clean_name)\n",
    "\n",
    "\n",
    "      \n",
    "correction_map = dict(zip(corrections[\"Minifig\"], corrections[\"Corrected\"]))\n",
    "\n",
    "minifigs[\"clean_name\"] = minifigs[\"clean_name\"].map(correction_map).fillna(minifigs[\"clean_name\"])\n",
    "\n",
    "print(minifigs.head())\n",
    "\n",
    "# Validate\n",
    "#print(minifigs[[\"fig_num\", \"name\", \"clean_name\"]].head())\n"
   ]
  },
  {
   "cell_type": "markdown",
   "id": "44970a8c-60e1-4f22-a88c-ee87400577dd",
   "metadata": {},
   "source": [
    "## Join sets to themes and filter to Star Wars"
   ]
  },
  {
   "cell_type": "code",
   "execution_count": 4,
   "id": "b7fe8d7f-c7dd-4693-a799-bf7197b743e2",
   "metadata": {},
   "outputs": [
    {
     "name": "stdout",
     "output_type": "stream",
     "text": [
      "Joined sets+themes: (25546, 9)\n",
      "        set_num                     name_set                      name_theme\n",
      "0  0003977811-1  Ninjago: Book of Adventures  Activity Books with LEGO Parts\n",
      "1         001-1                        Gears                       Samsonite\n",
      "2        0011-2            Town Mini-Figures                    Classic Town\n",
      "3        0011-3   Castle 2 for 1 Bonus Offer                    Lion Knights\n",
      "4        0012-1           Space Mini-Figures                    Supplemental\n",
      "Star Wars sets: (1019, 9)\n",
      "      set_num                 name_set  year  theme_id  num_parts  \\\n",
      "2445  20006-1         Clone Turbo Tank  2008       158         64   \n",
      "2456  20007-1  Republic Attack Cruiser  2009       158         84   \n",
      "2469  20009-1             AT-TE Walker  2009       158         94   \n",
      "2473  20010-1         Republic Gunship  2009       158         94   \n",
      "2497  20016-1         Imperial Shuttle  2010       158         70   \n",
      "\n",
      "                                                img_url   id name_theme  \\\n",
      "2445  https://cdn.rebrickable.com/media/sets/20006-1...  158  Star Wars   \n",
      "2456  https://cdn.rebrickable.com/media/sets/20007-1...  158  Star Wars   \n",
      "2469  https://cdn.rebrickable.com/media/sets/20009-1...  158  Star Wars   \n",
      "2473  https://cdn.rebrickable.com/media/sets/20010-1...  158  Star Wars   \n",
      "2497  https://cdn.rebrickable.com/media/sets/20016-1...  158  Star Wars   \n",
      "\n",
      "      parent_id  \n",
      "2445        NaN  \n",
      "2456        NaN  \n",
      "2469        NaN  \n",
      "2473        NaN  \n",
      "2497        NaN  \n"
     ]
    }
   ],
   "source": [
    "sets_themes = sets.merge(themes, left_on=\"theme_id\", right_on=\"id\", suffixes=(\"_set\", \"_theme\"))\n",
    "print(\"Joined sets+themes:\", sets_themes.shape)\n",
    "print(sets_themes[[\"set_num\", \"name_set\", \"name_theme\"]].head())\n",
    "\n",
    "sw_sets = sets_themes[sets_themes[\"name_theme\"] == \"Star Wars\"]\n",
    "print(\"Star Wars sets:\", sw_sets.shape)\n",
    "print(sw_sets.head())\n"
   ]
  },
  {
   "cell_type": "markdown",
   "id": "3258331d-7041-43cf-8ad6-7672bfb9020d",
   "metadata": {},
   "source": [
    "## Joining inv and minifigs"
   ]
  },
  {
   "cell_type": "code",
   "execution_count": 5,
   "id": "562f784b-1255-40ce-b368-df9bea35f49c",
   "metadata": {},
   "outputs": [
    {
     "name": "stdout",
     "output_type": "stream",
     "text": [
      "Inventories joined with SW sets: (1019, 11)\n",
      "Final set_minifigs: (1944, 18)\n",
      "   inventory_id     fig_num  quantity  id_x  version  set_num  \\\n",
      "0            89  fig-001714         1    89        1  75094-1   \n",
      "1            89  fig-004139         1    89        1  75094-1   \n",
      "2            89  fig-004140         1    89        1  75094-1   \n",
      "3            89  fig-004141         1    89        1  75094-1   \n",
      "4            89  fig-004142         1    89        1  75094-1   \n",
      "\n",
      "                    name_set  year  theme_id  num_parts_x  \\\n",
      "0  Imperial Shuttle Tydirium  2015       158          937   \n",
      "1  Imperial Shuttle Tydirium  2015       158          937   \n",
      "2  Imperial Shuttle Tydirium  2015       158          937   \n",
      "3  Imperial Shuttle Tydirium  2015       158          937   \n",
      "4  Imperial Shuttle Tydirium  2015       158          937   \n",
      "\n",
      "                                           img_url_x  id_y name_theme  \\\n",
      "0  https://cdn.rebrickable.com/media/sets/75094-1...   158  Star Wars   \n",
      "1  https://cdn.rebrickable.com/media/sets/75094-1...   158  Star Wars   \n",
      "2  https://cdn.rebrickable.com/media/sets/75094-1...   158  Star Wars   \n",
      "3  https://cdn.rebrickable.com/media/sets/75094-1...   158  Star Wars   \n",
      "4  https://cdn.rebrickable.com/media/sets/75094-1...   158  Star Wars   \n",
      "\n",
      "   parent_id                                               name  num_parts_y  \\\n",
      "0        NaN  Chewbacca, Dark Brown - Long Lines on Legs on ...            3   \n",
      "1        NaN  Rebel Trooper in Endor Uniform, Olive Green Le...            4   \n",
      "2        NaN                Han Solo, Endor Outfit, Long Jacket            4   \n",
      "3        NaN                Princess Leia, Endor Outfit, Poncho            5   \n",
      "4        NaN   Rebel Trooper in Endor Uniform, Olive Green Legs            4   \n",
      "\n",
      "                                           img_url_y  \\\n",
      "0  https://cdn.rebrickable.com/media/sets/fig-001...   \n",
      "1  https://cdn.rebrickable.com/media/sets/fig-004...   \n",
      "2  https://cdn.rebrickable.com/media/sets/fig-004...   \n",
      "3  https://cdn.rebrickable.com/media/sets/fig-004...   \n",
      "4  https://cdn.rebrickable.com/media/sets/fig-004...   \n",
      "\n",
      "                       clean_name  \n",
      "0                       Chewbacca  \n",
      "1  Rebel Trooper in Endor Uniform  \n",
      "2                        Han Solo  \n",
      "3                   Princess Leia  \n",
      "4  Rebel Trooper in Endor Uniform  \n"
     ]
    }
   ],
   "source": [
    "inventories = inventories[inventories[\"version\"] == 1]\n",
    "\n",
    "inv_sets = inventories.merge(sw_sets, on=\"set_num\", how=\"inner\")\n",
    "print(\"Inventories joined with SW sets:\", inv_sets.shape)\n",
    "\n",
    "set_minifigs = inventory_minifigs.merge(inv_sets, left_on=\"inventory_id\", right_on=\"id_x\", how=\"inner\")\n",
    "set_minifigs = set_minifigs.merge(minifigs, on=\"fig_num\", how=\"inner\")\n",
    "\n",
    "print(\"Final set_minifigs:\", set_minifigs.shape)\n",
    "print(set_minifigs.head())\n"
   ]
  },
  {
   "cell_type": "code",
   "execution_count": 12,
   "id": "9f3c6961-a7b0-46a8-a791-e52d29a8b57c",
   "metadata": {},
   "outputs": [
    {
     "name": "stdout",
     "output_type": "stream",
     "text": [
      "wrote data/lego_starwars_table.json\n"
     ]
    }
   ],
   "source": [
    "minifigNetwork = set_minifigs.rename(columns={\n",
    "    \"clean_name\": \"Minifig\",\n",
    "    \"img_url_y\": \"Minifig_Image\",\n",
    "    \"img_url_x\": \"Set_Image\",\n",
    "    \"year\": \"Set_Year\",\n",
    "    \"name_set\": \"Set_Name\",\n",
    "    \"set_num\": \"Set_Number\"\n",
    "})\n",
    "\n",
    "minifigNetwork = minifigNetwork[[\n",
    "    \"Minifig\", \"Minifig_Image\", \"Set_Image\", \"Set_Year\", \"Set_Name\", \"Set_Number\"\n",
    "]]\n",
    "\n",
    "minifigTable = (\n",
    "    minifigNetwork.groupby(\"Minifig\")\n",
    "      .agg(\n",
    "          Appearances=(\"Set_Number\", \"nunique\"),\n",
    "          Sets=(\"Set_Name\", list),\n",
    "          SetNumbers=(\"Set_Number\", list),\n",
    "          FirstYear=(\"Set_Year\", \"min\"),\n",
    "          LastYear=(\"Set_Year\", \"max\")\n",
    "      )\n",
    "      .reset_index()\n",
    "      .sort_values(\"Appearances\", ascending=False)\n",
    ")\n",
    "\n",
    "# save to file\n",
    "minifigTable.to_json(\"data/lego_starwars_table.json\", orient=\"records\", indent=2)\n",
    "\n",
    "\n",
    "print(\"wrote data/lego_starwars_table.json\")\n",
    "\n"
   ]
  },
  {
   "cell_type": "markdown",
   "id": "72863d47-8458-4eda-8421-121c4cbd029c",
   "metadata": {},
   "source": [
    "## Build Nodes"
   ]
  },
  {
   "cell_type": "code",
   "execution_count": 13,
   "id": "4bad3e8a-93c6-46e3-9e6e-7e6a435e9700",
   "metadata": {},
   "outputs": [
    {
     "name": "stdout",
     "output_type": "stream",
     "text": [
      "Node summary: (1338, 3)\n",
      "                        Minifig  \\\n",
      "0  187th Legion Clone Commander   \n",
      "1    187th Legion Clone Trooper   \n",
      "2            2-1B Medical Droid   \n",
      "3            2-1B Medical Droid   \n",
      "4            2-1B Medical Droid   \n",
      "\n",
      "                                       Minifig_Image  size  \n",
      "0  https://cdn.rebrickable.com/media/sets/fig-012...     1  \n",
      "1  https://cdn.rebrickable.com/media/sets/fig-012...     1  \n",
      "2  https://cdn.rebrickable.com/media/sets/fig-003...     1  \n",
      "3  https://cdn.rebrickable.com/media/sets/fig-003...     1  \n",
      "4  https://cdn.rebrickable.com/media/sets/fig-004...     1  \n",
      "Sample nodes: [{'id': '187th Legion Clone Commander', 'label': '187th Legion Clone Commander', 'size': 1, 'sets': ['75342-1'], 'set_images': ['https://cdn.rebrickable.com/media/sets/75342-1.jpg'], 'years': [2022], 'first_year': np.int64(2022), 'last_year': np.int64(2022), 'img_url': 'https://cdn.rebrickable.com/media/sets/fig-012579.jpg'}, {'id': '187th Legion Clone Trooper', 'label': '187th Legion Clone Trooper', 'size': 1, 'sets': ['75342-1'], 'set_images': ['https://cdn.rebrickable.com/media/sets/75342-1.jpg'], 'years': [2022], 'first_year': np.int64(2022), 'last_year': np.int64(2022), 'img_url': 'https://cdn.rebrickable.com/media/sets/fig-012580.jpg'}, {'id': '2-1B Medical Droid', 'label': '2-1B Medical Droid', 'size': 4, 'sets': ['7879-1', '8096-1', '75203-1', '75220-1'], 'set_images': ['https://cdn.rebrickable.com/media/sets/7879-1.jpg', 'https://cdn.rebrickable.com/media/sets/8096-1.jpg', 'https://cdn.rebrickable.com/media/sets/75203-1.jpg', 'https://cdn.rebrickable.com/media/sets/75220-1.jpg'], 'years': [2010, 2011, 2018], 'first_year': np.int64(2010), 'last_year': np.int64(2018), 'img_url': 'https://cdn.rebrickable.com/media/sets/fig-004517.jpg'}, {'id': '327th Clone Trooper', 'label': '327th Clone Trooper', 'size': 1, 'sets': ['75431-1'], 'set_images': ['https://cdn.rebrickable.com/media/sets/75431-1.jpg'], 'years': [2025], 'first_year': np.int64(2025), 'last_year': np.int64(2025), 'img_url': 'https://cdn.rebrickable.com/media/sets/fig-016587.jpg'}, {'id': '4-LOM', 'label': '4-LOM', 'size': 2, 'sets': ['75167-1', '75243-1'], 'set_images': ['https://cdn.rebrickable.com/media/sets/75167-1.jpg', 'https://cdn.rebrickable.com/media/sets/75243-1.jpg'], 'years': [2017, 2019], 'first_year': np.int64(2017), 'last_year': np.int64(2019), 'img_url': 'https://cdn.rebrickable.com/media/sets/fig-004242.jpg'}]\n"
     ]
    }
   ],
   "source": [
    "# --- Build nodes using count of unique sets ---\n",
    "node_sizes = (\n",
    "    minifigNetwork.groupby([\"Minifig\", \"Minifig_Image\"])[\"Set_Number\"]\n",
    "    .nunique()\n",
    "    .reset_index()\n",
    "    .rename(columns={\"Set_Number\": \"size\"})\n",
    ")\n",
    "\n",
    "print(\"Node summary:\", node_sizes.shape)\n",
    "print(node_sizes.head())\n",
    "\n",
    "nodes = []\n",
    "for minifig, group in minifigNetwork.groupby(\"Minifig\"):\n",
    "    node = {\n",
    "        \"id\": minifig,\n",
    "        \"label\": minifig,\n",
    "        \"size\": group[\"Set_Number\"].nunique(),\n",
    "        \"sets\": group[\"Set_Number\"].unique().tolist(),\n",
    "        \"set_images\": group[\"Set_Image\"].unique().tolist(),\n",
    "        \"years\": sorted(group[\"Set_Year\"].unique().tolist()),  # include all years for reference\n",
    "        \"first_year\": group[\"Set_Year\"].min(),\n",
    "        \"last_year\": group[\"Set_Year\"].max(),\n",
    "        \"img_url\": group.sort_values(\"Set_Year\", ascending=False)[\"Minifig_Image\"].iloc[0]\n",
    "    }\n",
    "    nodes.append(node)\n",
    "\n",
    "\n",
    "print(\"Sample nodes:\", nodes[:5])\n",
    "\n"
   ]
  },
  {
   "cell_type": "code",
   "execution_count": 14,
   "id": "d572c224-71f8-4b05-9586-e1a8bb84e53a",
   "metadata": {},
   "outputs": [],
   "source": [
    "minifigNetwork.to_csv(\"data/minifigNetwork.csv\", index=False)\n"
   ]
  },
  {
   "cell_type": "markdown",
   "id": "c4f77e8b-3f80-4a41-8529-39ab36289a64",
   "metadata": {},
   "source": [
    "## Build Edges"
   ]
  },
  {
   "cell_type": "code",
   "execution_count": 15,
   "id": "7938f94c-6be4-43ea-b499-89d519e19df3",
   "metadata": {},
   "outputs": [
    {
     "name": "stdout",
     "output_type": "stream",
     "text": [
      "Number of edges: 2303\n",
      "Sample edges: [{'source': 'Darth Maul', 'target': 'Darth Vader', 'value': 1, 'sets': [{'set_number': '3340-1', 'set_name': 'Star Wars #1 - Sith Minifig Pack', 'set_img': 'https://cdn.rebrickable.com/media/sets/3340-1.jpg', 'set_year': np.int64(2000)}]}, {'source': 'Darth Maul', 'target': 'Emperor Palpatine', 'value': 1, 'sets': [{'set_number': '3340-1', 'set_name': 'Star Wars #1 - Sith Minifig Pack', 'set_img': 'https://cdn.rebrickable.com/media/sets/3340-1.jpg', 'set_year': np.int64(2000)}]}, {'source': 'Darth Vader', 'target': 'Emperor Palpatine', 'value': 7, 'sets': [{'set_number': '3340-1', 'set_name': 'Star Wars #1 - Sith Minifig Pack', 'set_img': 'https://cdn.rebrickable.com/media/sets/3340-1.jpg', 'set_year': np.int64(2000)}, {'set_number': '7200-1', 'set_name': 'Final Duel I', 'set_img': 'https://cdn.rebrickable.com/media/sets/7200-1.jpg', 'set_year': np.int64(2002)}, {'set_number': '7264-1', 'set_name': 'Imperial Inspection', 'set_img': 'https://cdn.rebrickable.com/media/sets/7264-1.jpg', 'set_year': np.int64(2005)}, {'set_number': '75093-1', 'set_name': 'Death Star Final Duel', 'set_img': 'https://cdn.rebrickable.com/media/sets/75093-1.jpg', 'set_year': np.int64(2015)}, {'set_number': '75183-1', 'set_name': 'Darth Vader Transformation', 'set_img': 'https://cdn.rebrickable.com/media/sets/75183-1.jpg', 'set_year': np.int64(2017)}, {'set_number': '75291-1', 'set_name': 'Death Star Final Duel', 'set_img': 'https://cdn.rebrickable.com/media/sets/75291-1.jpg', 'set_year': np.int64(2020)}, {'set_number': '75352-1', 'set_name': \"Emperor's Throne Room Diorama\", 'set_img': 'https://cdn.rebrickable.com/media/sets/75352-1.jpg', 'set_year': np.int64(2023)}]}, {'source': 'Boba Fett', 'target': 'Han Solo', 'value': 9, 'sets': [{'set_number': '3341-1', 'set_name': 'Star Wars #2 - Luke/Han/Boba Minifig Pack', 'set_img': 'https://cdn.rebrickable.com/media/sets/3341-1.jpg', 'set_year': np.int64(2000)}, {'set_number': '6210-1', 'set_name': \"Jabba's Sail Barge\", 'set_img': 'https://cdn.rebrickable.com/media/sets/6210-1.jpg', 'set_year': np.int64(2006)}, {'set_number': '75137-1', 'set_name': 'Carbon-Freezing Chamber', 'set_img': 'https://cdn.rebrickable.com/media/sets/75137-1.jpg', 'set_year': np.int64(2016)}, {'set_number': '75174-1', 'set_name': 'Desert Skiff Escape', 'set_img': 'https://cdn.rebrickable.com/media/sets/75174-1.jpg', 'set_year': np.int64(2017)}, {'set_number': '75222-1', 'set_name': 'Betrayal at Cloud City', 'set_img': 'https://cdn.rebrickable.com/media/sets/75222-1.jpg', 'set_year': np.int64(2018)}, {'set_number': '75222-1', 'set_name': 'Betrayal at Cloud City', 'set_img': 'https://cdn.rebrickable.com/media/sets/75222-1.jpg', 'set_year': np.int64(2018)}, {'set_number': '75243-1', 'set_name': 'Slave I - 20th Anniversary Edition', 'set_img': 'https://cdn.rebrickable.com/media/sets/75243-1.jpg', 'set_year': np.int64(2019)}, {'set_number': '75396-1', 'set_name': 'Desert Skiff & Sarlacc Pit', 'set_img': 'https://cdn.rebrickable.com/media/sets/75396-1.jpg', 'set_year': np.int64(2024)}, {'set_number': '8097-1', 'set_name': 'Slave I', 'set_img': 'https://cdn.rebrickable.com/media/sets/8097-1.jpg', 'set_year': np.int64(2010)}]}, {'source': 'Boba Fett', 'target': 'Luke Skywalker', 'value': 5, 'sets': [{'set_number': '3341-1', 'set_name': 'Star Wars #2 - Luke/Han/Boba Minifig Pack', 'set_img': 'https://cdn.rebrickable.com/media/sets/3341-1.jpg', 'set_year': np.int64(2000)}, {'set_number': '6210-1', 'set_name': \"Jabba's Sail Barge\", 'set_img': 'https://cdn.rebrickable.com/media/sets/6210-1.jpg', 'set_year': np.int64(2006)}, {'set_number': '75222-1', 'set_name': 'Betrayal at Cloud City', 'set_img': 'https://cdn.rebrickable.com/media/sets/75222-1.jpg', 'set_year': np.int64(2018)}, {'set_number': '75396-1', 'set_name': 'Desert Skiff & Sarlacc Pit', 'set_img': 'https://cdn.rebrickable.com/media/sets/75396-1.jpg', 'set_year': np.int64(2024)}, {'set_number': '9496-1', 'set_name': 'Desert Skiff', 'set_img': 'https://cdn.rebrickable.com/media/sets/9496-1.jpg', 'set_year': np.int64(2012)}]}]\n"
     ]
    }
   ],
   "source": [
    "# --- Build edges: one co-occurrence per pair per set ---\n",
    "# --- Build edges with set info ---\n",
    "edges = []\n",
    "for set_id, group in minifigNetwork.groupby(\"Set_Number\"):\n",
    "    figs = group[\"Minifig\"].tolist()\n",
    "    set_name = group[\"Set_Name\"].iloc[0]\n",
    "    set_img = group[\"Set_Image\"].iloc[0]\n",
    "    set_year = group[\"Set_Year\"].iloc[0]\n",
    "\n",
    "    for a, b in itertools.combinations(sorted(figs), 2):\n",
    "        edges.append({\n",
    "            \"source\": a,\n",
    "            \"target\": b,\n",
    "            \"set_number\": set_id,\n",
    "            \"set_name\": set_name,\n",
    "            \"set_img\": set_img,\n",
    "            \"set_year\": set_year  # reference year here\n",
    "        })\n",
    "\n",
    "# group edges by (a, b) and collect sets\n",
    "from collections import defaultdict\n",
    "edge_map = defaultdict(lambda: {\"sets\": []})\n",
    "for e in edges:\n",
    "    key = tuple(sorted([e[\"source\"], e[\"target\"]]))\n",
    "    edge_map[key][\"sets\"].append({\n",
    "        \"set_number\": e[\"set_number\"],\n",
    "        \"set_name\": e[\"set_name\"],\n",
    "        \"set_img\": e[\"set_img\"],\n",
    "        \"set_year\": e[\"set_year\"]\n",
    "    })\n",
    "\n",
    "links = [\n",
    "    {\n",
    "        \"source\": a,\n",
    "        \"target\": b,\n",
    "        \"value\": len(data[\"sets\"]),\n",
    "        \"sets\": data[\"sets\"]\n",
    "    }\n",
    "    for (a, b), data in edge_map.items()\n",
    "]\n",
    "\n",
    "print(\"Number of edges:\", len(links))\n",
    "print(\"Sample edges:\", links[:5])\n"
   ]
  },
  {
   "cell_type": "code",
   "execution_count": 18,
   "id": "407c9e99-6504-4685-9467-2fc4bddacf9d",
   "metadata": {},
   "outputs": [
    {
     "name": "stdout",
     "output_type": "stream",
     "text": [
      "Wrote data/lego_starwars_graph_v2.json\n"
     ]
    }
   ],
   "source": [
    "graph_data = {\n",
    "    \"nodes\": nodes,\n",
    "    \"links\": links\n",
    "}\n",
    "import numpy as np\n",
    "\n",
    "def default_converter(o):\n",
    "    if isinstance(o, np.integer):\n",
    "        return int(o)\n",
    "    if isinstance(o, np.floating):\n",
    "        return float(o)\n",
    "    if isinstance(o, np.ndarray):\n",
    "        return o.tolist()\n",
    "    raise TypeError(f\"Type {type(o)} not serializable\")\n",
    "\n",
    "with open(\"data/lego_starwars_graph_v2.json\", \"w\") as f:\n",
    "    json.dump({\"nodes\": nodes, \"links\": links}, f, indent=2, default=default_converter)\n",
    "\n",
    "print(\"Wrote data/lego_starwars_graph_v2.json\")\n"
   ]
  },
  {
   "cell_type": "code",
   "execution_count": 11,
   "id": "88e2b759-1810-49f9-82f1-510ec076d36d",
   "metadata": {},
   "outputs": [],
   "source": [
    "edges = []\n",
    "for set_id, group in minifigNetwork.groupby(\"Set_Number\"):\n",
    "    figs = group[\"Minifig\"].tolist()\n",
    "    set_name = group[\"Set_Name\"].iloc[0]\n",
    "    set_img = group[\"Set_Image\"].iloc[0]\n",
    "\n",
    "    for a, b in itertools.combinations(sorted(figs), 2):\n",
    "        edges.append({\n",
    "            \"source\": a,\n",
    "            \"target\": b,\n",
    "            \"set_number\": set_id,\n",
    "            \"set_name\": set_name,\n",
    "            \"set_img\": set_img\n",
    "        })\n",
    "\n",
    "# group edges by (a, b) and collect sets\n",
    "from collections import defaultdict\n",
    "edge_map = defaultdict(lambda: {\"sets\": []})\n",
    "\n",
    "for e in edges:\n",
    "    key = tuple(sorted([e[\"source\"], e[\"target\"]]))\n",
    "    edge_map[key][\"sets\"].append({\n",
    "        \"set_number\": e[\"set_number\"],\n",
    "        \"set_name\": e[\"set_name\"],\n",
    "        \"set_img\": e[\"set_img\"]\n",
    "    })\n",
    "\n",
    "links = [\n",
    "    {\n",
    "        \"source\": a,\n",
    "        \"target\": b,\n",
    "        \"value\": len(data[\"sets\"]),\n",
    "        \"sets\": data[\"sets\"]\n",
    "    }\n",
    "    for (a, b), data in edge_map.items()\n",
    "]\n",
    "\n",
    "graph_data = {\n",
    "    \"nodes\": nodes,\n",
    "    \"links\": links\n",
    "}"
   ]
  }
 ],
 "metadata": {
  "kernelspec": {
   "display_name": "Python 3 (ipykernel)",
   "language": "python",
   "name": "python3"
  },
  "language_info": {
   "codemirror_mode": {
    "name": "ipython",
    "version": 3
   },
   "file_extension": ".py",
   "mimetype": "text/x-python",
   "name": "python",
   "nbconvert_exporter": "python",
   "pygments_lexer": "ipython3",
   "version": "3.9.6"
  }
 },
 "nbformat": 4,
 "nbformat_minor": 5
}
